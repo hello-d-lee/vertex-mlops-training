{
 "cells": [
  {
   "cell_type": "markdown",
   "id": "5b0190a4-f441-4715-ae1e-2e5f631db43c",
   "metadata": {},
   "source": [
    "# Overview\n",
    "In this notebook, you will train a BigQuery ML logistic regression model, evaluate the training artifacts, and register it to the Vertex AI model registry. \n",
    "\n",
    "## Train the model\n",
    "Below you will find a code sample to train a BigQuery ML Logistic Regression model to predict whether a website visitor will make a transaction. The example provided below is quite simple - but there are a number of optional BQML parameters you can add in and play around with to customize the model training, feel free to customize and play around.\n",
    "* Documentation around optional parameters: https://cloud.google.com/bigquery-ml/docs/reference/standard-sql/bigqueryml-syntax-create\n",
    "* Feature preprocessing supporting in BQML: https://cloud.google.com/bigquery-ml/docs/reference/standard-sql/bigqueryml-syntax-preprocess-overview\n",
    "* Hyperparameter tuning in BQML: https://cloud.google.com/bigquery-ml/docs/reference/standard-sql/bigqueryml-syntax-hp-tuning-overview\n",
    "\n",
    "<b>Remember to change the project, dataset, table, and model names!</b> In the example below, the PROJECT_ID is leedeb-experimentation, but yours will be different. Similarly, the dataset name is bq_databricks_vertex in this example but yours would be different. Name your model whatever you want - in this case it's ga_log_reg_bqml. "
   ]
  },
  {
   "cell_type": "markdown",
   "id": "5b85c8d2-dcf4-4c18-9915-4f1a261370d5",
   "metadata": {},
   "source": [
    "```sql\n",
    "CREATE OR REPLACE MODEL `leedeb-experimentation.bq_databricks_vertex.ga_log_reg_bqml`\n",
    "OPTIONS(\n",
    "  model_type='logistic_reg',\n",
    "  model_registry='vertex_ai'\n",
    "  ) AS\n",
    "SELECT\n",
    "  *\n",
    "FROM\n",
    "  `leedeb-experimentation.bq_databricks_vertex.training_data`\n",
    "```\n",
    "\n",
    "Once the training job runs, you should see the model underneath the dataset, click on it to start exploring the generated metrics & artifacts:\n",
    "![](./bqml_model.png)\n",
    "\n",
    "## Model Registry\n",
    "Note that in the training code above, including the model_registry parameter ensures that the model is ALSO automatically registered to the Vertex AI model registry. \n",
    "\n",
    "* Navigate to the Vertex AI model registry\n",
    "* You should see your model in the registry - make sure to select the proper region\n",
    "* Click on the model - you should see Version 1 created, the default version \n",
    "* If you run the training job again and keep the model name the same, you would see a new version of the model appear in the registry:\n",
    "![](./modelreg_bqml.png)\n",
    "\n",
    "If you click on a version of the model, you can also see the evaluation artifacts and metrics that were associated with that version of the model are captured - for example, the precision recall curves, confusion matrix\n",
    "![](./modelreg_art_bqml.png)"
   ]
  },
  {
   "cell_type": "code",
   "execution_count": null,
   "id": "351f48fb-80e5-418f-b57f-3010a0b582f9",
   "metadata": {},
   "outputs": [],
   "source": []
  }
 ],
 "metadata": {
  "environment": {
   "kernel": "python3",
   "name": "common-cpu.m99",
   "type": "gcloud",
   "uri": "gcr.io/deeplearning-platform-release/base-cpu:m99"
  },
  "kernelspec": {
   "display_name": "Python 3",
   "language": "python",
   "name": "python3"
  },
  "language_info": {
   "codemirror_mode": {
    "name": "ipython",
    "version": 3
   },
   "file_extension": ".py",
   "mimetype": "text/x-python",
   "name": "python",
   "nbconvert_exporter": "python",
   "pygments_lexer": "ipython3",
   "version": "3.7.12"
  }
 },
 "nbformat": 4,
 "nbformat_minor": 5
}
